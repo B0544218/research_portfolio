{
  "nbformat": 4,
  "nbformat_minor": 0,
  "metadata": {
    "colab": {
      "name": "python_pass_value_reference.ipynb",
      "provenance": [],
      "collapsed_sections": []
    },
    "kernelspec": {
      "name": "python3",
      "display_name": "Python 3"
    }
  },
  "cells": [
    {
      "cell_type": "markdown",
      "metadata": {
        "id": "b6AdERyMtcXI",
        "colab_type": "text"
      },
      "source": [
        "# python address (非容器型態)"
      ]
    },
    {
      "cell_type": "markdown",
      "metadata": {
        "id": "GIX52MASusZN",
        "colab_type": "text"
      },
      "source": [
        "## num string"
      ]
    },
    {
      "cell_type": "code",
      "metadata": {
        "id": "1JIA7IxJqyiT",
        "colab_type": "code",
        "colab": {
          "base_uri": "https://localhost:8080/",
          "height": 126
        },
        "outputId": "584ac2ff-374c-437b-e373-cd8ff48207d9"
      },
      "source": [
        "a=1\n",
        "print(id(a))\n",
        "b=1\n",
        "print(id(b))\n",
        "print(id(a)==id(b))\n",
        "a='s'\n",
        "print(id(a))\n",
        "b='s'\n",
        "print(id(b))\n",
        "print(id(a)==id(b))"
      ],
      "execution_count": null,
      "outputs": [
        {
          "output_type": "stream",
          "text": [
            "10914496\n",
            "10914496\n",
            "True\n",
            "139796054022048\n",
            "139796054022048\n",
            "True\n"
          ],
          "name": "stdout"
        }
      ]
    },
    {
      "cell_type": "markdown",
      "metadata": {
        "id": "1W0B9g8HuntV",
        "colab_type": "text"
      },
      "source": [
        "## function"
      ]
    },
    {
      "cell_type": "code",
      "metadata": {
        "id": "IX47b3yGuiog",
        "colab_type": "code",
        "colab": {
          "base_uri": "https://localhost:8080/",
          "height": 72
        },
        "outputId": "b363a7ef-a675-4b02-fd53-b84efe68c5e6"
      },
      "source": [
        "def f(a):\n",
        "  return a\n",
        "\n",
        "a= f(1)\n",
        "b= f(1)\n",
        "print(id(a))\n",
        "print(id(b))\n",
        "print(id(a)==id(b))"
      ],
      "execution_count": null,
      "outputs": [
        {
          "output_type": "stream",
          "text": [
            "10914496\n",
            "10914496\n",
            "True\n"
          ],
          "name": "stdout"
        }
      ]
    },
    {
      "cell_type": "markdown",
      "metadata": {
        "id": "uth1cmThwZzi",
        "colab_type": "text"
      },
      "source": [
        ""
      ]
    },
    {
      "cell_type": "markdown",
      "metadata": {
        "id": "piNd9yE1t99q",
        "colab_type": "text"
      },
      "source": [
        "# python address (容器型態)\n",
        "## 如果 (容器)a = (容器)b ，那a的address會被b覆蓋"
      ]
    },
    {
      "cell_type": "markdown",
      "metadata": {
        "id": "_XBGQq8avYDf",
        "colab_type": "text"
      },
      "source": [
        "## tuple \n"
      ]
    },
    {
      "cell_type": "code",
      "metadata": {
        "id": "Nltyt6thvZzF",
        "colab_type": "code",
        "colab": {
          "base_uri": "https://localhost:8080/",
          "height": 54
        },
        "outputId": "7e9c903c-6b2f-4936-e987-db9a8f602dde"
      },
      "source": [
        "a = id((1))\n",
        "b = id((1))\n",
        "\n",
        "print(id(a)-id(b)) #不等於0 因此a和b不一樣\n",
        "print(id(a)==id(b))"
      ],
      "execution_count": null,
      "outputs": [
        {
          "output_type": "stream",
          "text": [
            "1248\n",
            "False\n"
          ],
          "name": "stdout"
        }
      ]
    },
    {
      "cell_type": "markdown",
      "metadata": {
        "id": "g-59F8Zvux21",
        "colab_type": "text"
      },
      "source": [
        "## list"
      ]
    },
    {
      "cell_type": "code",
      "metadata": {
        "id": "-qGz1Bf_quod",
        "colab_type": "code",
        "colab": {
          "base_uri": "https://localhost:8080/",
          "height": 126
        },
        "outputId": "9736f7f6-624a-455b-a406-1898783aca2b"
      },
      "source": [
        "a=[1]\n",
        "print(id(a))\n",
        "b=[1]\n",
        "print(id(b))\n",
        "print(id(a)==id(b))\n",
        "a=['s']\n",
        "print(id(a))\n",
        "b=['s']\n",
        "print(id(b))\n",
        "print(id(a)==id(b))"
      ],
      "execution_count": null,
      "outputs": [
        {
          "output_type": "stream",
          "text": [
            "139795478700104\n",
            "139795478371400\n",
            "False\n",
            "139795478369096\n",
            "139795478700104\n",
            "False\n"
          ],
          "name": "stdout"
        }
      ]
    },
    {
      "cell_type": "markdown",
      "metadata": {
        "id": "8mSbpqAsu681",
        "colab_type": "text"
      },
      "source": [
        "## class"
      ]
    },
    {
      "cell_type": "code",
      "metadata": {
        "id": "VdTUkyGYp_4f",
        "colab_type": "code",
        "colab": {
          "base_uri": "https://localhost:8080/",
          "height": 72
        },
        "outputId": "9fb97863-f68b-4374-e7d5-f5f15e1a358b"
      },
      "source": [
        "\n",
        "class node():\n",
        "  def __init__(self):\n",
        "    self.val=None\n",
        "    self.next=None\n",
        "a=node()\n",
        "print(id(a))\n",
        "b=node()\n",
        "print(id(b))\n",
        "print(id(a)==id(b))\n"
      ],
      "execution_count": null,
      "outputs": [
        {
          "output_type": "stream",
          "text": [
            "139795478395592\n",
            "139795478395368\n",
            "False\n"
          ],
          "name": "stdout"
        }
      ]
    },
    {
      "cell_type": "code",
      "metadata": {
        "id": "pA3h-SWCrCxN",
        "colab_type": "code",
        "colab": {
          "base_uri": "https://localhost:8080/",
          "height": 199
        },
        "outputId": "5bfd909d-2b9f-43f5-bdd6-a341c2ce5ca7"
      },
      "source": [
        "a=node()\n",
        "b=node()\n",
        "b.next = a\n",
        "print(id(a)==id(b.next))\n",
        "print(id(b)==id(b.next))\n",
        "print('a' , id(a))\n",
        "print('b.next' , id(b.next))\n",
        "print('b' , id(b))\n",
        "a=b\n",
        "print(id(a)==id(b.next))\n",
        "print(id(a)==id(b))\n",
        "print('a' , id(a))\n",
        "print('b.next' , id(b.next))\n",
        "print('b' , id(b))"
      ],
      "execution_count": null,
      "outputs": [
        {
          "output_type": "stream",
          "text": [
            "True\n",
            "False\n",
            "a 139795478426904\n",
            "b.next 139795478426904\n",
            "b 139795478426848\n",
            "False\n",
            "True\n",
            "a 139795478426848\n",
            "b.next 139795478426904\n",
            "b 139795478426848\n"
          ],
          "name": "stdout"
        }
      ]
    },
    {
      "cell_type": "code",
      "metadata": {
        "id": "hZ2N8-mjq0ij",
        "colab_type": "code",
        "colab": {}
      },
      "source": [
        ""
      ],
      "execution_count": null,
      "outputs": []
    }
  ]
}